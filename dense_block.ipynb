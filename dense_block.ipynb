{
 "cells": [
  {
   "cell_type": "code",
   "execution_count": 6,
   "metadata": {},
   "outputs": [],
   "source": [
    "import torch\n",
    "import torch.nn as nn\n",
    "\n",
    "# separable convolution: https://github.com/Cadene/pretrained-models.pytorch/blob/master/pretrainedmodels/models/xception.py#L224\n",
    "# dense block: https://github.com/jacobkimmel/fcdensenet_pytorch/blob/master/model.py\n",
    "\n",
    "\"\"\"\n",
    "每个unit，自动cancat其输入与输出\n",
    "\"\"\"\n",
    "class dense_block_unit(nn.Module):\n",
    "    def __init__(self, in_channel, out_channel):\n",
    "        super(dense_block_unit, self).__init__()\n",
    "        self.conv0 = nn.Conv2d(in_channel, in_channel, kernel_size=3, stride=1, padding=1, dilation=1, groups=in_channel, bias=False)\n",
    "        self.conv1 = nn.Conv2d(in_channel, out_channel, kernel_size=1, stride=1, padding=0, dilation=1, bias=False)\n",
    "        self.bn = nn.BatchNorm2d(out_channel)\n",
    "        self.act = nn.ReLU(inplace=True)\n",
    "    \n",
    "    def forward(self, inputs):\n",
    "        output = self.conv0(inputs)\n",
    "        output = self.conv1(output)\n",
    "        output = self.act(self.bn(output))\n",
    "        concat = torch.cat([inputs, output], dim=1)   # 自动 cancat\n",
    "        \n",
    "        return concat\n",
    "\n",
    "class dense_block(nn.Module):\n",
    "    def __init__(self, num_units, in_channel, growth_rate, keep_input=True):\n",
    "        super(dense_block, self).__init__()\n",
    "        self.in_channel = in_channel\n",
    "        self.growth_rate = growth_rate\n",
    "        self.keep_input = keep_input\n",
    "        \n",
    "        if keep_input:\n",
    "            self.out_channel = self.in_channel + num_units*growth_rate\n",
    "        else:\n",
    "            self.out_channel = num_units*growth_rate\n",
    "            \n",
    "        layers = []\n",
    "        for i in range(num_units):\n",
    "            layers.append(dense_block_unit(in_channel + i*growth_rate, growth_rate))\n",
    "            \n",
    "        self.layers = nn.Sequential(*layers)\n",
    "        \n",
    "    def forward(self, inputs):\n",
    "        output = self.layers(inputs)\n",
    "        \n",
    "        if not self.keep_input:\n",
    "            output = output[:, self.in_channel:, ...]\n",
    "        \n",
    "        return output\n",
    "            \n",
    "        "
   ]
  },
  {
   "cell_type": "code",
   "execution_count": 17,
   "metadata": {},
   "outputs": [],
   "source": [
    "tiny_model = dense_block(4, 32, 16)"
   ]
  },
  {
   "cell_type": "code",
   "execution_count": 16,
   "metadata": {},
   "outputs": [
    {
     "name": "stdout",
     "output_type": "stream",
     "text": [
      "torch.Size([3, 96, 64, 64])\n"
     ]
    }
   ],
   "source": [
    "inputs = torch.randn(3, 32, 64, 64)\n",
    "output= tiny_model(inputs)\n",
    "print(output.shape)               # output channel = input channel + (num_units-1)*growth_rate\n",
    "                                  # i.e. 32 + 4*16 = 96"
   ]
  },
  {
   "cell_type": "code",
   "execution_count": 4,
   "metadata": {},
   "outputs": [],
   "source": [
    "\"\"\"\n",
    "构建 module list，前向 forward 时，手动 cancat 当前层结果作为下一层输入\n",
    "\"\"\"\n",
    "\n",
    "class dense_block_unit(nn.Module):\n",
    "    def __init__(self, in_channel, out_channel):\n",
    "        super(dense_block_unit, self).__init__()\n",
    "        self.conv0 = nn.Conv2d(in_channel, in_channel, kernel_size=3, stride=1, padding=1, dilation=1, groups=in_channel, bias=False)\n",
    "        self.conv1 = nn.Conv2d(in_channel, out_channel, kernel_size=1, stride=1, padding=0, dilation=1, bias=False)\n",
    "        self.bn = nn.BatchNorm2d(out_channel)\n",
    "        self.act = nn.ReLU(inplace=True)\n",
    "    \n",
    "    def forward(self, inputs):\n",
    "        output = self.conv0(inputs)\n",
    "        output = self.conv1(output)\n",
    "        output = self.act(self.bn(output))\n",
    "\n",
    "        return output\n",
    "\n",
    "    \n",
    "class dense_block(nn.Module):\n",
    "    def __init__(self, num_units, in_channel, growth_rate, keep_input=True):\n",
    "        super(dense_block, self).__init__()\n",
    "        self.in_channel = in_channel\n",
    "        self.growth_rate = growth_rate\n",
    "        self.keep_input = keep_input\n",
    "        \n",
    "        if keep_input:\n",
    "            self.out_channel = self.in_channel + num_units*growth_rate\n",
    "        else:\n",
    "            self.out_channel = num_units*growth_rate\n",
    "        \n",
    "        # 构建 module list\n",
    "        self.layers = nn.ModuleList()\n",
    "        for i in range(num_units):\n",
    "            self.layers.append(dense_block_unit(in_channel + i*growth_rate, growth_rate))\n",
    "        \n",
    "    def forward(self, inputs):\n",
    "        for layers in self.layers:\n",
    "            output = layers(inputs)\n",
    "            inputs = torch.cat([inputs, output], dim=1)        # 前向传播时，手动cancat结果\n",
    "        \n",
    "        if not self.keep_input:\n",
    "            inputs = inputs[:, self.in_channel:, ...]\n",
    "            \n",
    "        return inputs"
   ]
  },
  {
   "cell_type": "code",
   "execution_count": 21,
   "metadata": {},
   "outputs": [
    {
     "name": "stdout",
     "output_type": "stream",
     "text": [
      "torch.Size([3, 96, 64, 64])\n"
     ]
    }
   ],
   "source": [
    "tiny_model = dense_block(4, 32, 16)\n",
    "inputs = torch.randn(3, 32, 64, 64)\n",
    "output= tiny_model(inputs)\n",
    "print(output.shape)               # output channel = input channel + (num_units-1)*growth_rate\n",
    "                                  # i.e. 32 + 4*16 = 96"
   ]
  },
  {
   "cell_type": "code",
   "execution_count": 1,
   "metadata": {},
   "outputs": [
    {
     "ename": "SyntaxError",
     "evalue": "invalid character in identifier (<ipython-input-1-bf96525c5634>, line 1)",
     "output_type": "error",
     "traceback": [
      "\u001b[0;36m  File \u001b[0;32m\"<ipython-input-1-bf96525c5634>\"\u001b[0;36m, line \u001b[0;32m1\u001b[0m\n\u001b[0;31m    另外一种构建模型的方式， 直接继承 nn.Sequential()\u001b[0m\n\u001b[0m               ^\u001b[0m\n\u001b[0;31mSyntaxError\u001b[0m\u001b[0;31m:\u001b[0m invalid character in identifier\n"
     ]
    }
   ],
   "source": [
    "# 另外一种构建模型的方式， 直接继承 nn.Sequential()\n",
    "\n",
    "# https://github.com/bfortuner/pytorch_tiramisu/blob/master/models/layers.py\n",
    "\n",
    "class DenseLayer(nn.Sequential):\n",
    "    def __init__(self, in_channels, growth_rate):\n",
    "        super().__init__()\n",
    "        self.add_module('norm', nn.BatchNorm2d(in_channels))\n",
    "        self.add_module('relu', nn.ReLU(True))\n",
    "        self.add_module('conv', nn.Conv2d(in_channels, growth_rate, kernel_size=3,\n",
    "                                          stride=1, padding=1, bias=True))\n",
    "        self.add_module('drop', nn.Dropout2d(0.2))\n",
    "\n",
    "    def forward(self, x):\n",
    "        return super().forward(x)"
   ]
  },
  {
   "cell_type": "code",
   "execution_count": null,
   "metadata": {},
   "outputs": [],
   "source": [
    "# 堆加 dense block 的一种写法\n",
    "class Densenet_tiny(nn.Module):\n",
    "    def __init__(self, in_channel, first_conv_out, growth_rate, down_blocks=(4, 4), bottle_block=4,\n",
    "                up_blocks=(4, 4)):\n",
    "        super(Densenet_tiny, self).__init__()\n",
    "        self.down_blocks = down_blocks\n",
    "        self.up_blocks = up_blocks\n",
    "        self.conv0 = nn.Conv2d(in_channel, first_conv_out, kernel_size=3, stride=1, padding=1, bias=False)\n",
    "        self.bn = nn.BatchNorm2d(first_conv_out)\n",
    "        self.act = nn.ReLU(inplace=True)\n",
    "        \n",
    "        encoder_channel_in = first_conv_out\n",
    "        skip_connection_channel = []\n",
    "        # encoding path\n",
    "        for i in range(len(encoder_blocks)):\n",
    "            setattr(self, 'down_block_' + str(i), dense_block(num_units=encoder_blocks[i], \n",
    "                                                              encoder_channel_in, growth_rate))\n",
    "            setattr(self, 'trans_down_' + str(i), nn.MaxPool2d(2, 2))\n",
    "            encoder_channel_in = encoder_channel_in + encoder_blocks[i]*growth_rate\n",
    "            skip_connection_channel.append(encoder_channel_in)\n",
    "            \n",
    "        self.bottle_block = dense_block(num_units=bottle_block, encoder_channel_in, growth_rate)\n",
    "        \n",
    "        # decoding path\n",
    "        decoder_channel_in = bottle_block*growth_rate\n",
    "        for i in range(len(up_blocks)):\n",
    "            setattr(self, 'trans_up' + str(i), nn.ConvTranspose2d(decoder_channel_in, decoder_channel_in,\n",
    "                                                                 3, 2, padding=1, output_padding=1))\n",
    "            decoder_channel_in = decoder_channel_in + skip_connection_channel[-(i+1)]\n",
    "            setattr(self, 'up_block_' + str(i), dense_block(num_units=up_blocks[i],decoder_channel_in, \n",
    "                                                            growth_rate, keep_input=False))\n",
    "        # final conv\n",
    "        \n",
    "    def forward(self, inputs):\n",
    "        output = self.conv0(inputs)\n",
    "        \n",
    "        # encoding path\n",
    "        self.encoding_blocaks_out = []\n",
    "        for i in range(len(self.down_blocks)):\n",
    "            encode_block = getattr(self, 'down_block_' + str(i))\n",
    "            td_layer = getattr(self, 'trans_down_' + str(i))\n",
    "            \n",
    "            output = encode_block(output)\n",
    "            self.encoding_blocaks_out.append(ouput)\n",
    "            output = td_layer(output)\n",
    "            \n",
    "        output = self.bottle_block(output)\n",
    "        \n",
    "        for i in range(len(self.up_blocks)):\n",
    "            decode_block = getattr(self, 'up_block_' + str(i))\n",
    "            tu_layer = getattr(self, 'trans_up_' + str(i))\n",
    "            \n",
    "            output = tu_layer(output)\n",
    "            \n",
    "            skip_out = self.encoding_blocaks_out.pop()\n",
    "            output = torch.cat([skip_out, output], dim=1)\n",
    "            \n",
    "            output = decode_block(output)\n",
    "            \n",
    "        output = self.final_conv()\n",
    "            "
   ]
  }
 ],
 "metadata": {
  "kernelspec": {
   "display_name": "Python 3",
   "language": "python",
   "name": "python3"
  },
  "language_info": {
   "codemirror_mode": {
    "name": "ipython",
    "version": 3
   },
   "file_extension": ".py",
   "mimetype": "text/x-python",
   "name": "python",
   "nbconvert_exporter": "python",
   "pygments_lexer": "ipython3",
   "version": "3.7.2"
  }
 },
 "nbformat": 4,
 "nbformat_minor": 2
}
