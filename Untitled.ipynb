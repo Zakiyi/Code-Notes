{
 "cells": [
  {
   "cell_type": "code",
   "execution_count": 13,
   "metadata": {},
   "outputs": [],
   "source": [
    "import torch\n",
    "import torch.nn as nn\n",
    "\n",
    "# separable convolution: https://github.com/Cadene/pretrained-models.pytorch/blob/master/pretrainedmodels/models/xception.py#L224\n",
    "# dense block: https://github.com/jacobkimmel/fcdensenet_pytorch/blob/master/model.py\n",
    "\n",
    "\"\"\"\n",
    "每个unit，自动cancat其输入与输出\n",
    "\"\"\"\n",
    "class dense_block_unit(nn.Module):\n",
    "    def __init__(self, in_channel, out_channel):\n",
    "        super(dense_block_unit, self).__init__()\n",
    "        self.conv0 = nn.Conv2d(in_channel, in_channel, kernel_size=3, stride=1, padding=1, dilation=1, groups=in_channel, bias=False)\n",
    "        self.conv1 = nn.Conv2d(in_channel, out_channel, kernel_size=1, stride=1, padding=0, dilation=1, bias=False)\n",
    "        self.bn = nn.BatchNorm2d(out_channel)\n",
    "        self.act = nn.ReLU(inplace=True)\n",
    "    \n",
    "    def forward(self, inputs):\n",
    "        output = self.conv0(inputs)\n",
    "        output = self.conv1(output)\n",
    "        output = self.act(self.bn(output))\n",
    "        concat = torch.cat([inputs, output], dim=1)   # 自动 cancat\n",
    "        \n",
    "        return concat\n",
    "\n",
    "class dense_block(nn.Module):\n",
    "    def __init__(self, num_units, in_channel, growth_rate):\n",
    "        super(dense_block, self).__init__()\n",
    "        self.in_channel = in_channel\n",
    "        self.growth_rate = growth_rate\n",
    "        \n",
    "        layers = []\n",
    "        for i in range(num_units):\n",
    "            layers.append(dense_block_unit(in_channel + i*growth_rate, growth_rate))\n",
    "            \n",
    "        self.layers = nn.Sequential(*layers)\n",
    "        \n",
    "    def forward(self, inputs):\n",
    "        output = self.layers(inputs)\n",
    "        \n",
    "        return output\n",
    "            \n",
    "        "
   ]
  },
  {
   "cell_type": "code",
   "execution_count": 17,
   "metadata": {},
   "outputs": [],
   "source": [
    "tiny_model = dense_block(4, 32, 16)"
   ]
  },
  {
   "cell_type": "code",
   "execution_count": 16,
   "metadata": {},
   "outputs": [
    {
     "name": "stdout",
     "output_type": "stream",
     "text": [
      "torch.Size([3, 96, 64, 64])\n"
     ]
    }
   ],
   "source": [
    "inputs = torch.randn(3, 32, 64, 64)\n",
    "output= tiny_model(inputs)\n",
    "print(output.shape)               # output channel = input channel + (num_units-1)*growth_rate\n",
    "                                  # i.e. 32 + 4*16 = 96"
   ]
  },
  {
   "cell_type": "code",
   "execution_count": 20,
   "metadata": {},
   "outputs": [],
   "source": [
    "\"\"\"\n",
    "构建 module list，前向 forward 时，手动 cancat 当前层结果作为下一层输入\n",
    "\"\"\"\n",
    "\n",
    "class dense_block_unit(nn.Module):\n",
    "    def __init__(self, in_channel, out_channel):\n",
    "        super(dense_block_unit, self).__init__()\n",
    "        self.conv0 = nn.Conv2d(in_channel, in_channel, kernel_size=3, stride=1, padding=1, dilation=1, groups=in_channel, bias=False)\n",
    "        self.conv1 = nn.Conv2d(in_channel, out_channel, kernel_size=1, stride=1, padding=0, dilation=1, bias=False)\n",
    "        self.bn = nn.BatchNorm2d(out_channel)\n",
    "        self.act = nn.ReLU(inplace=True)\n",
    "    \n",
    "    def forward(self, inputs):\n",
    "        output = self.conv0(inputs)\n",
    "        output = self.conv1(output)\n",
    "        output = self.act(self.bn(output))\n",
    "\n",
    "        return output\n",
    "\n",
    "    \n",
    "class dense_block(nn.Module):\n",
    "    def __init__(self, num_units, in_channel, growth_rate):\n",
    "        super(dense_block, self).__init__()\n",
    "        self.in_channel = in_channel\n",
    "        self.growth_rate = growth_rate\n",
    "        \n",
    "        # 构建 module list\n",
    "        self.layers = nn.ModuleList()\n",
    "        for i in range(num_units):\n",
    "            self.layers.append(dense_block_unit(in_channel + i*growth_rate, growth_rate))\n",
    "        \n",
    "    def forward(self, inputs):\n",
    "        for layers in self.layers:\n",
    "            output = layers(inputs)\n",
    "            inputs = torch.cat([inputs, output], dim=1)        # 前向传播时，手动cancat结果\n",
    "        \n",
    "        return inputs"
   ]
  },
  {
   "cell_type": "code",
   "execution_count": 21,
   "metadata": {},
   "outputs": [
    {
     "name": "stdout",
     "output_type": "stream",
     "text": [
      "torch.Size([3, 96, 64, 64])\n"
     ]
    }
   ],
   "source": [
    "tiny_model = dense_block(4, 32, 16)\n",
    "inputs = torch.randn(3, 32, 64, 64)\n",
    "output= tiny_model(inputs)\n",
    "print(output.shape)               # output channel = input channel + (num_units-1)*growth_rate\n",
    "                                  # i.e. 32 + 4*16 = 96"
   ]
  }
 ],
 "metadata": {
  "kernelspec": {
   "display_name": "Python 3",
   "language": "python",
   "name": "python3"
  },
  "language_info": {
   "codemirror_mode": {
    "name": "ipython",
    "version": 3
   },
   "file_extension": ".py",
   "mimetype": "text/x-python",
   "name": "python",
   "nbconvert_exporter": "python",
   "pygments_lexer": "ipython3",
   "version": "3.7.2"
  }
 },
 "nbformat": 4,
 "nbformat_minor": 2
}
