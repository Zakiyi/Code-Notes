{
 "cells": [
  {
   "cell_type": "code",
   "execution_count": 4,
   "metadata": {},
   "outputs": [
    {
     "name": "stdout",
     "output_type": "stream",
     "text": [
      "model_conv using time 0.0141 s\n"
     ]
    }
   ],
   "source": [
    "# two convolutional layers model\n",
    "\n",
    "model_conv = nn.Sequential(\n",
    "    nn.Conv2d(10, 10, 3),\n",
    "    nn.BatchNorm2d(10),\n",
    "    nn.Conv2d(10, 10, 3),\n",
    "    nn.BatchNorm2d(10)\n",
    ")\n",
    "\n",
    "\n",
    "inputs = torch.randn((120, 10, 512, 512))\n",
    "inputs = inputs.to('cuda')\n",
    "model_conv.to('cuda')\n",
    "\n",
    "start_time = time.time()\n",
    "outputs = model_conv(inputs)\n",
    "end_time = time.time()\n",
    "print('model_conv using time {:.4f} s'.format(end_time-start_time))\n",
    "del inputs\n",
    "del outputs\n",
    "del model_conv\n",
    "torch.cuda.empty_cache()"
   ]
  },
  {
   "cell_type": "code",
   "execution_count": null,
   "metadata": {},
   "outputs": [],
   "source": [
    "from __future__ import print_function\n",
    "import numpy as np\n",
    "import time\n",
    "import torch\n",
    "import torch.nn as nn\n",
    "from collections import OrderedDict\n",
    "\n",
    "def get_mask(in_channels, channels):\n",
    "    mask = np.zeros((in_channels, channels, 3, 3))\n",
    "    for _ in range(in_channels):\n",
    "        mask[_, _ % channels, :, :] = 1.\n",
    "    return mask\n",
    "\n",
    "\n",
    "class DiagonalwiseRefactorization(nn.Module):\n",
    "    def __init__(self, in_channels, stride=1, groups=1):\n",
    "        super(DiagonalwiseRefactorization, self).__init__()\n",
    "        channels = int(in_channels / groups)\n",
    "        self.in_channels = in_channels\n",
    "        self.groups = int(groups)\n",
    "        self.stride = stride\n",
    "        self.mask = nn.Parameter(torch.Tensor(get_mask(in_channels, channels)), requires_grad=False)\n",
    "        self.weight = nn.Parameter(torch.Tensor(in_channels, channels, 3, 3), requires_grad=True)\n",
    "        torch.nn.init.xavier_uniform_(self.weight.data)\n",
    "        self.weight.data.mul_(self.mask.data)\n",
    "\n",
    "    def forward(self, x):\n",
    "        weight = torch.mul(self.weight, self.mask)\n",
    "        x = torch.nn.functional.conv2d(x, weight, bias=None, stride=self.stride, padding=1, groups=self.groups)\n",
    "        return x\n",
    "\n",
    "\n",
    "def DepthwiseConv2d(in_channels, stride=1):\n",
    "    groups = max(in_channels / 10, 1)\n",
    "    return DiagonalwiseRefactorization(in_channels, stride, groups)"
   ]
  },
  {
   "cell_type": "code",
   "execution_count": 6,
   "metadata": {},
   "outputs": [
    {
     "name": "stdout",
     "output_type": "stream",
     "text": [
      "model_conv using time 0.0062 s\n"
     ]
    }
   ],
   "source": [
    "# two depth-wise convolutional layers model \n",
    "\n",
    "model_dw_conv = nn.Sequential(\n",
    "    nn.Conv2d(10, 10, 3, groups=10),\n",
    "    nn.BatchNorm2d(10),\n",
    "    nn.Conv2d(10, 10, 3, groups=10),\n",
    "    nn.BatchNorm2d(10)\n",
    ")\n",
    "\n",
    "inputs = torch.randn((120, 10, 512, 512))\n",
    "inputs = inputs.to('cuda')\n",
    "model_dw_conv.to('cuda')\n",
    "\n",
    "start_time = time.time()\n",
    "outputs = model_dw_conv(inputs)\n",
    "end_time = time.time()\n",
    "print('model_conv using time {:.4f} s'.format(end_time-start_time))\n",
    "# del inputs\n",
    "# del outputs\n",
    "del model_dw_conv\n",
    "torch.cuda.empty_cache()"
   ]
  },
  {
   "cell_type": "code",
   "execution_count": 34,
   "metadata": {},
   "outputs": [
    {
     "name": "stdout",
     "output_type": "stream",
     "text": [
      "model_conv using time 0.0078 s\n"
     ]
    }
   ],
   "source": [
    "# two depth-wise convolutional layers model with Diagonalwise Refactorization\n",
    "# https://arxiv.org/pdf/1803.09926.pdf\n",
    "# https://github.com/clavichord93/diagonalwise-refactorization-pytorch\n",
    "model_dw_conv = nn.Sequential(\n",
    "    DepthwiseConv2d(10, stride=1),\n",
    "    nn.BatchNorm2d(10),\n",
    "    DepthwiseConv2d(10, stride=1),\n",
    "    nn.BatchNorm2d(10)\n",
    ")\n",
    "\n",
    "inputs = torch.randn((120, 10, 512, 512))\n",
    "inputs = inputs.to('cuda')\n",
    "model_dw_conv.to('cuda')\n",
    "\n",
    "start_time = time.time()\n",
    "outputs = model_dw_conv(inputs)\n",
    "end_time = time.time()\n",
    "print('model_conv using time {:.4f} s'.format(end_time-start_time))\n",
    "del inputs\n",
    "del outputs\n",
    "torch.cuda.empty_cache()"
   ]
  },
  {
   "cell_type": "code",
   "execution_count": 5,
   "metadata": {},
   "outputs": [],
   "source": [
    "del inputs\n",
    "del outputs\n",
    "torch.cuda.empty_cache()"
   ]
  }
 ],
 "metadata": {
  "kernelspec": {
   "display_name": "Python 3",
   "language": "python",
   "name": "python3"
  },
  "language_info": {
   "codemirror_mode": {
    "name": "ipython",
    "version": 3
   },
   "file_extension": ".py",
   "mimetype": "text/x-python",
   "name": "python",
   "nbconvert_exporter": "python",
   "pygments_lexer": "ipython3",
   "version": "3.7.2"
  }
 },
 "nbformat": 4,
 "nbformat_minor": 2
}
