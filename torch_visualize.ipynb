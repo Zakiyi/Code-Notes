{
 "cells": [
  {
   "cell_type": "code",
   "execution_count": null,
   "metadata": {},
   "outputs": [],
   "source": [
    "import torchvision.utils as utils\n",
    "import matplotlib.pyplot as plt\n",
    "import skimage.io as io"
   ]
  },
  {
   "cell_type": "code",
   "execution_count": null,
   "metadata": {},
   "outputs": [],
   "source": [
    "image = io.imread('pics')"
   ]
  },
  {
   "cell_type": "markdown",
   "metadata": {},
   "source": [
    "PyTorch模型训练特征图可视化（TensorboardX） - Pascal的文章 - 知乎\n",
    "https://zhuanlan.zhihu.com/p/60753993\n",
    "\n",
    "Pytorch训练可视化(TensorboardX) - TeddyZhang的文章 - 知乎\n",
    "https://zhuanlan.zhihu.com/p/54947519\n",
    "\n",
    "https://github.com/tensor-yu/PyTorch_Tutorial/blob/master/Code/4_viewer/3_visual_featuremaps.py\n",
    "\n",
    "https://towardsdatascience.com/how-to-visualize-convolutional-features-in-40-lines-of-code-70b7d87b0030\n",
    "\n",
    "make grid problem, when input has shape of CxHxW, the output of make_grid shows error"
   ]
  }
 ],
 "metadata": {
  "kernelspec": {
   "display_name": "Python 3",
   "language": "python",
   "name": "python3"
  },
  "language_info": {
   "codemirror_mode": {
    "name": "ipython",
    "version": 3
   },
   "file_extension": ".py",
   "mimetype": "text/x-python",
   "name": "python",
   "nbconvert_exporter": "python",
   "pygments_lexer": "ipython3",
   "version": "3.7.2"
  }
 },
 "nbformat": 4,
 "nbformat_minor": 2
}
